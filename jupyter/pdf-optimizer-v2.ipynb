{
 "cells": [
  {
   "cell_type": "code",
   "execution_count": 49,
   "metadata": {},
   "outputs": [],
   "source": [
    "import cv2\n",
    "import numpy as np\n",
    "import os\n",
    "from concurrent.futures import ThreadPoolExecutor\n",
    "import time"
   ]
  },
  {
   "cell_type": "code",
   "execution_count": 43,
   "metadata": {},
   "outputs": [],
   "source": [
    "input_dir = 'input'\n",
    "output_dir = 'output'\n",
    "gamma = 2.5\n",
    "filename_replace = 'Python源码剖析-优化_'\n",
    "filename_replace__v = 'Python_'"
   ]
  },
  {
   "cell_type": "code",
   "execution_count": 47,
   "metadata": {},
   "outputs": [],
   "source": [
    "def optimize(gamma: float, filename: str, log: bool=False):\n",
    "  \"\"\"伽马变换\"\"\"\n",
    "  if log:\n",
    "    print(f'process file by gamma {gamma}: {filename}')\n",
    "  image = cv2.imread(f'{input_dir}/{filename}', cv2.IMREAD_GRAYSCALE)\n",
    "  fI = image / 255.0\n",
    "  O = np.power(fI, gamma)\n",
    "  # need to extent to unit8\n",
    "  O = O * 255\n",
    "  filename = f\"{output_dir}/{filename}\"\n",
    "  cv2.imwrite(filename, O)"
   ]
  },
  {
   "cell_type": "code",
   "execution_count": 40,
   "metadata": {},
   "outputs": [
    {
     "name": "stdout",
     "output_type": "stream",
     "text": [
      "renamed 0 files\n"
     ]
    }
   ],
   "source": [
    "for file in os.scandir(input_dir):\n",
    "  # rename filename with Chinese\n",
    "  count = 0\n",
    "  if file.is_file():\n",
    "    target = file.path\n",
    "    if target.find(filename_replace) > -1:\n",
    "      target = target.replace(filename_replace, filename_replace__v)\n",
    "      os.rename(file.path, target)\n",
    "      count += 1\n",
    "print(f'renamed {count} files')"
   ]
  },
  {
   "cell_type": "code",
   "execution_count": 56,
   "metadata": {},
   "outputs": [
    {
     "name": "stdout",
     "output_type": "stream",
     "text": [
      "time cost: 10.525855779647827s\n"
     ]
    }
   ],
   "source": [
    "b = time.time()\n",
    "pool = ThreadPoolExecutor(10)\n",
    "for file in os.scandir(input_dir):\n",
    "  if file.is_file():\n",
    "    pool.submit(optimize, gamma, file.name)\n",
    "pool.shutdown(wait=True)\n",
    "print(f'time cost: {time.time() - b}s')"
   ]
  },
  {
   "cell_type": "code",
   "execution_count": null,
   "metadata": {},
   "outputs": [],
   "source": []
  }
 ],
 "metadata": {
  "interpreter": {
   "hash": "c8021be2121acb6aedb321c9fc0970845e72ecff144800146fabd90eee2b1d5e"
  },
  "kernelspec": {
   "display_name": "Python 3.8.12 64-bit ('learn': conda)",
   "language": "python",
   "name": "python3"
  },
  "language_info": {
   "codemirror_mode": {
    "name": "ipython",
    "version": 3
   },
   "file_extension": ".py",
   "mimetype": "text/x-python",
   "name": "python",
   "nbconvert_exporter": "python",
   "pygments_lexer": "ipython3",
   "version": "3.8.12"
  },
  "orig_nbformat": 4
 },
 "nbformat": 4,
 "nbformat_minor": 2
}
