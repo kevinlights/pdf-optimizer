{
 "cells": [
  {
   "cell_type": "code",
   "execution_count": null,
   "metadata": {},
   "outputs": [],
   "source": [
    "import cv2\n",
    "import numpy as np\n",
    "import os\n",
    "from concurrent.futures import ThreadPoolExecutor\n",
    "import time\n",
    "from PIL import Image\n",
    "from pdf2image import convert_from_path\n",
    "from pdf2image.generators import threadsafe"
   ]
  },
  {
   "cell_type": "code",
   "execution_count": null,
   "metadata": {},
   "outputs": [],
   "source": [
    "begin = time.time()\n",
    "\n",
    "input_dir = 'input'\n",
    "output_dir = 'output'\n",
    "gamma = 2.5\n",
    "filename_replace = 'file'\n",
    "filename_replace__v = ''\n",
    "extension = 'jpg'\n",
    "pdf_input = f'pdf/input.pdf'\n",
    "pdf_output = f'pdf/output.pdf'"
   ]
  },
  {
   "cell_type": "code",
   "execution_count": null,
   "metadata": {},
   "outputs": [],
   "source": [
    "# clean input and output folder\n",
    "for file in os.scandir(input_dir):\n",
    "  os.remove(file.path)\n",
    "for file in os.scandir(output_dir):\n",
    "  os.remove(file.path)"
   ]
  },
  {
   "cell_type": "code",
   "execution_count": null,
   "metadata": {},
   "outputs": [],
   "source": [
    "@threadsafe\n",
    "def output_file_generator():\n",
    "  i = 0\n",
    "  while True:\n",
    "    i += 1\n",
    "    yield str(filename_replace)"
   ]
  },
  {
   "cell_type": "code",
   "execution_count": null,
   "metadata": {},
   "outputs": [],
   "source": [
    "files = convert_from_path(\n",
    "    pdf_input, output_folder=input_dir, fmt=extension, dpi=100,\n",
    "    thread_count=5, output_file=output_file_generator(), grayscale=True\n",
    ")\n",
    "for file in files:\n",
    "    file.close()"
   ]
  },
  {
   "cell_type": "code",
   "execution_count": null,
   "metadata": {},
   "outputs": [],
   "source": [
    "def optimize(gamma: float, filename: str, log: bool=False):\n",
    "  \"\"\"伽马变换\"\"\"\n",
    "  if log:\n",
    "    print(f'process file by gamma {gamma}: {filename}')\n",
    "  image = cv2.imread(f'{input_dir}/{filename}', cv2.IMREAD_GRAYSCALE)\n",
    "  fI = image / 255.0\n",
    "  O = np.power(fI, gamma)\n",
    "  # need to extent to unit8\n",
    "  O = O * 255\n",
    "  filename = f\"{output_dir}/{filename}\"\n",
    "  cv2.imwrite(filename, O)"
   ]
  },
  {
   "cell_type": "code",
   "execution_count": null,
   "metadata": {},
   "outputs": [],
   "source": [
    "b = time.time()\n",
    "pool = ThreadPoolExecutor(5)\n",
    "for file in os.scandir(input_dir):\n",
    "  if file.is_file():\n",
    "    pool.submit(optimize, gamma, file.name)\n",
    "pool.shutdown(wait=True)\n",
    "print(f'time cost: {time.time() - b}s')"
   ]
  },
  {
   "cell_type": "code",
   "execution_count": null,
   "metadata": {},
   "outputs": [],
   "source": [
    "b = time.time()\n",
    "images = []\n",
    "for file in os.listdir(output_dir):\n",
    "  images.append(f'{output_dir}/{file}')\n",
    "images.sort(key=lambda x: int(x.replace(f'.{extension}', '').replace(f'{output_dir}/{filename_replace}-', '')))\n",
    "output = []\n",
    "for img in images:\n",
    "  output.append(Image.open(img))\n",
    "if len(output) > 0:\n",
    "  first_img = Image.open(images[0])\n",
    "  output.pop(0)\n",
    "  first_img.save(pdf_output, 'pdf', save_all=True, append_images=output)\n",
    "print(f'time cost: {time.time() - b}s')"
   ]
  },
  {
   "cell_type": "code",
   "execution_count": null,
   "metadata": {},
   "outputs": [],
   "source": [
    "print(f'total time cost: {time.time() - begin}s')"
   ]
  }
 ],
 "metadata": {
  "interpreter": {
   "hash": "c8021be2121acb6aedb321c9fc0970845e72ecff144800146fabd90eee2b1d5e"
  },
  "kernelspec": {
   "display_name": "Python 3.8.12 64-bit ('learn': conda)",
   "language": "python",
   "name": "python3"
  },
  "language_info": {
   "codemirror_mode": {
    "name": "ipython",
    "version": 3
   },
   "file_extension": ".py",
   "mimetype": "text/x-python",
   "name": "python",
   "nbconvert_exporter": "python",
   "pygments_lexer": "ipython3",
   "version": "3.8.12"
  },
  "orig_nbformat": 4
 },
 "nbformat": 4,
 "nbformat_minor": 2
}
